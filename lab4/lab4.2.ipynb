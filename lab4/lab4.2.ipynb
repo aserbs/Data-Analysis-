{
 "cells": [
  {
   "cell_type": "code",
   "execution_count": 12,
   "metadata": {},
   "outputs": [
    {
     "name": "stderr",
     "output_type": "stream",
     "text": [
      "Device set to use cpu\n"
     ]
    },
    {
     "name": "stdout",
     "output_type": "stream",
     "text": [
      "Питання: Яка головна тема гри Assassin's Creed?\n",
      "Відповідь:  боротьбі між ассасинами, які прагнуть свободи,\n",
      "--------------------------------------------------\n",
      "Питання: Де відбуваються події гри Cyberpunk 2077?\n",
      "Відповідь:  в місті Найт-Сіті,\n",
      "--------------------------------------------------\n",
      "Питання: Яку загрозу намагається зупинити Лінк у грі The Legend of Zelda: Breath of the Wild?\n",
      "Відповідь:  злого Ганона.\n",
      "--------------------------------------------------\n"
     ]
    }
   ],
   "source": [
    "from transformers import pipeline, AutoTokenizer, AutoModelForQuestionAnswering\n",
    "\n",
    "# Завантаження токенізатора та моделі\n",
    "tokenizer = AutoTokenizer.from_pretrained(\"robinhad/ukrainian-qa\")\n",
    "model = AutoModelForQuestionAnswering.from_pretrained(\"robinhad/ukrainian-qa\")\n",
    "\n",
    "# Ініціалізація пайплайну\n",
    "qa_model = pipeline(\"question-answering\", model=model.to(\"cpu\"), tokenizer=tokenizer)\n",
    "\n",
    "# Тестовий контекст і питання\n",
    "contexts_and_questions = [\n",
    "    {\n",
    "        \"context\": \"Assassin's Creed — це серія екшн-ігор, створена Ubisoft. Основна сюжетна лінія зосереджена на боротьбі між ассасинами, які прагнуть свободи, і тамплієрами, які прагнуть встановити порядок у світі через контроль.\",\n",
    "        \"question\": \"Яка головна тема гри Assassin's Creed?\"\n",
    "    },\n",
    "    {\n",
    "        \"context\": \"Cyberpunk 2077 — це рольова гра, створена студією CD Projekt Red. Гра розгортається в місті Найт-Сіті, де гравці керують персонажем на ім'я Ві, який шукає спосіб вижити в світі кібернетичних імплантів і глибоких соціальних конфліктів.\",\n",
    "        \"question\": \"Де відбуваються події гри Cyberpunk 2077?\"\n",
    "    },\n",
    "    {\n",
    "        \"context\": \"The Legend of Zelda: Breath of the Wild — це пригодницька гра, випущена Nintendo. Гравці беруть на себе роль Лінка, героя, який має врятувати королівство Хайрул від загрози, що походить від злого Ганона.\",\n",
    "        \"question\": \"Яку загрозу намагається зупинити Лінк у грі The Legend of Zelda: Breath of the Wild?\"\n",
    "    }\n",
    "]\n",
    "\n",
    "\n",
    "# Генерація відповідей\n",
    "for item in contexts_and_questions:\n",
    "    answer = qa_model(question=item[\"question\"], context=item[\"context\"])\n",
    "    print(f\"Питання: {item['question']}\")\n",
    "    print(f\"Відповідь: {answer['answer']}\")\n",
    "    print(\"-\" * 50)"
   ]
  }
 ],
 "metadata": {
  "kernelspec": {
   "display_name": "Python 3.10.7 64-bit",
   "language": "python",
   "name": "python3"
  },
  "language_info": {
   "codemirror_mode": {
    "name": "ipython",
    "version": 3
   },
   "file_extension": ".py",
   "mimetype": "text/x-python",
   "name": "python",
   "nbconvert_exporter": "python",
   "pygments_lexer": "ipython3",
   "version": "3.10.7"
  },
  "orig_nbformat": 4,
  "vscode": {
   "interpreter": {
    "hash": "d49b30ec1defa47bb8a595d9223af30003d2de73990cb90ccf177dc274b8e1fd"
   }
  }
 },
 "nbformat": 4,
 "nbformat_minor": 2
}
